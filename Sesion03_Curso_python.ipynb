{
  "nbformat": 4,
  "nbformat_minor": 0,
  "metadata": {
    "colab": {
      "name": "Sesion03-Curso_python.ipynb",
      "provenance": [],
      "authorship_tag": "ABX9TyN9XiA8TeC7uKFRm/sNzW8S",
      "include_colab_link": true
    },
    "kernelspec": {
      "display_name": "Python 3",
      "name": "python3"
    }
  },
  "cells": [
    {
      "cell_type": "markdown",
      "metadata": {
        "id": "view-in-github",
        "colab_type": "text"
      },
      "source": [
        "<a href=\"https://colab.research.google.com/github/carloshuarhua/curso_python/blob/main/Sesion03_Curso_python.ipynb\" target=\"_parent\"><img src=\"https://colab.research.google.com/assets/colab-badge.svg\" alt=\"Open In Colab\"/></a>"
      ]
    },
    {
      "cell_type": "markdown",
      "metadata": {
        "id": "lmgp_PFmK-WM"
      },
      "source": [
        "###Tuplas\n",
        "\n",
        "En Python una tupla es una estructura de datos que representa una colección de objetos, pudiendo estos ser de distintos tipos. Internamente, para representar una tupla, Python utiliza un array de objetos que almacena referencias hacia otros objetos."
      ]
    },
    {
      "cell_type": "markdown",
      "metadata": {
        "id": "5Qqh7yRVLEPr"
      },
      "source": [
        "Al principio parece que fueran listas:"
      ]
    },
    {
      "cell_type": "code",
      "metadata": {
        "id": "qRxNjdf_LFzN",
        "outputId": "9a69088c-59eb-40e1-d7f4-0e6fbb6bcddd",
        "colab": {
          "base_uri": "https://localhost:8080/"
        }
      },
      "source": [
        "#Listas: Permiten reemplazar los valores internos\n",
        "Estudiante=[\"Manuel Ponte\",23,\"M\"]\n",
        "Estudiante[0]='Omar Escobedo'\n",
        "Estudiante"
      ],
      "execution_count": null,
      "outputs": [
        {
          "output_type": "execute_result",
          "data": {
            "text/plain": [
              "['Omar Escobedo', 23, 'M']"
            ]
          },
          "metadata": {
            "tags": []
          },
          "execution_count": 8
        }
      ]
    },
    {
      "cell_type": "code",
      "metadata": {
        "id": "7ZAUSNM7NvOU",
        "outputId": "e79d92bd-153a-479b-ef5e-fe17e97464f4",
        "colab": {
          "base_uri": "https://localhost:8080/"
        }
      },
      "source": [
        "#Condicional\n",
        "if Estudiante[2] == 'M':\n",
        "    Estudiante[2] = 'Masculino'\n",
        "Estudiante"
      ],
      "execution_count": null,
      "outputs": [
        {
          "output_type": "execute_result",
          "data": {
            "text/plain": [
              "['Omar Escobedo', 23, 'Masculino']"
            ]
          },
          "metadata": {
            "tags": []
          },
          "execution_count": 10
        }
      ]
    },
    {
      "cell_type": "code",
      "metadata": {
        "id": "-EPCqWImNSov",
        "outputId": "af95a609-7efc-4813-bfe5-13f7e472a287",
        "colab": {
          "base_uri": "https://localhost:8080/"
        }
      },
      "source": [
        "#Tuplas\n",
        "Estudiantetupla='Karolayne Pacherres',23,'True'\n",
        "Estudiantetupla"
      ],
      "execution_count": null,
      "outputs": [
        {
          "output_type": "execute_result",
          "data": {
            "text/plain": [
              "('Karolayne Pacherres', 23, 'True')"
            ]
          },
          "metadata": {
            "tags": []
          },
          "execution_count": 5
        }
      ]
    },
    {
      "cell_type": "code",
      "metadata": {
        "id": "X9vmh4u1Ombz",
        "outputId": "112b5d71-5f5b-4933-bfbc-3de0fcd5f725",
        "colab": {
          "base_uri": "https://localhost:8080/",
          "height": 203
        }
      },
      "source": [
        "#Error: El valor de la tupla no puede ser reemplazado\n",
        "Estudiantetupla[0] = 'Karoline Pacherres'\n",
        "Estudiantetupla"
      ],
      "execution_count": null,
      "outputs": [
        {
          "output_type": "error",
          "ename": "TypeError",
          "evalue": "ignored",
          "traceback": [
            "\u001b[0;31m---------------------------------------------------------------------------\u001b[0m",
            "\u001b[0;31mTypeError\u001b[0m                                 Traceback (most recent call last)",
            "\u001b[0;32m<ipython-input-13-0354a97dd27a>\u001b[0m in \u001b[0;36m<module>\u001b[0;34m()\u001b[0m\n\u001b[1;32m      1\u001b[0m \u001b[0;31m#Error: El valor de la tupla no puede ser reemplazado\u001b[0m\u001b[0;34m\u001b[0m\u001b[0;34m\u001b[0m\u001b[0;34m\u001b[0m\u001b[0m\n\u001b[0;32m----> 2\u001b[0;31m \u001b[0mEstudiantetupla\u001b[0m\u001b[0;34m[\u001b[0m\u001b[0;36m0\u001b[0m\u001b[0;34m]\u001b[0m \u001b[0;34m=\u001b[0m \u001b[0;34m'Karoline Pacherres'\u001b[0m\u001b[0;34m\u001b[0m\u001b[0;34m\u001b[0m\u001b[0m\n\u001b[0m\u001b[1;32m      3\u001b[0m \u001b[0mEstudiantetupla\u001b[0m\u001b[0;34m\u001b[0m\u001b[0;34m\u001b[0m\u001b[0m\n",
            "\u001b[0;31mTypeError\u001b[0m: 'tuple' object does not support item assignment"
          ]
        }
      ]
    },
    {
      "cell_type": "markdown",
      "metadata": {
        "id": "RgbSqom8SkzG"
      },
      "source": [
        "Dado que una tupla puede almacenar distintos tipos de objetos, es posible anidar diferentes tuplas; veamos un sencillo ejemplo:"
      ]
    },
    {
      "cell_type": "code",
      "metadata": {
        "id": "vIG-IV2NSm6E",
        "outputId": "10c72b66-d529-4994-808d-b851da629357",
        "colab": {
          "base_uri": "https://localhost:8080/"
        }
      },
      "source": [
        "t = (1, (\"a\", 3), 5.6)\n",
        "t"
      ],
      "execution_count": null,
      "outputs": [
        {
          "output_type": "execute_result",
          "data": {
            "text/plain": [
              "(1, ('a', 3), 5.6)"
            ]
          },
          "metadata": {
            "tags": []
          },
          "execution_count": 14
        }
      ]
    },
    {
      "cell_type": "markdown",
      "metadata": {
        "id": "Hfss4rreSq2E"
      },
      "source": [
        "###Diccionario\n",
        "Los Diccionarios, superficialmente, son lo más similares a las listas de R. Almacenan **\"Campos\"**"
      ]
    },
    {
      "cell_type": "code",
      "metadata": {
        "id": "pf1ALnjHSugs",
        "outputId": "0b989c8b-4eca-426e-c3c7-ff1a17615214",
        "colab": {
          "background_save": true
        }
      },
      "source": [
        "# creando diccionarios:\n",
        "EstudianteDict={'Nombres':\"Manuel Ponte\",\n",
        "               'edad':23,\n",
        "               'femenino':False,\n",
        "                'distrito': 'Villa Maria'}\n",
        "#en los diccionarios se deben indicar los nombres de los atributos\n",
        "# seeing it:\n",
        "EstudianteDict"
      ],
      "execution_count": null,
      "outputs": [
        {
          "output_type": "execute_result",
          "data": {
            "text/plain": [
              "{'Nombres': 'Manuel Ponte',\n",
              " 'distrito': 'Villa Maria',\n",
              " 'edad': 23,\n",
              " 'femenino': False}"
            ]
          },
          "metadata": {
            "tags": []
          },
          "execution_count": 0
        }
      ]
    },
    {
      "cell_type": "markdown",
      "metadata": {
        "id": "S1U7YAd-TygU"
      },
      "source": [
        "Pare ver un elemento, tienes que saber el nombre de su campo ('key'):"
      ]
    },
    {
      "cell_type": "code",
      "metadata": {
        "id": "Gi8hTw9fTTvT",
        "outputId": "bf1136a4-dede-4e34-e027-7b926919635e",
        "colab": {
          "base_uri": "https://localhost:8080/",
          "height": 35
        }
      },
      "source": [
        "EstudianteDict['Nombres']"
      ],
      "execution_count": null,
      "outputs": [
        {
          "output_type": "execute_result",
          "data": {
            "application/vnd.google.colaboratory.intrinsic+json": {
              "type": "string"
            },
            "text/plain": [
              "'Manuel Ponte'"
            ]
          },
          "metadata": {
            "tags": []
          },
          "execution_count": 18
        }
      ]
    },
    {
      "cell_type": "code",
      "metadata": {
        "id": "N5am8Rs3T147",
        "outputId": "bc002109-4805-4a46-8600-4a6308ad0e35",
        "colab": {
          "base_uri": "https://localhost:8080/"
        }
      },
      "source": [
        "type(EstudianteDict)"
      ],
      "execution_count": 20,
      "outputs": [
        {
          "output_type": "execute_result",
          "data": {
            "text/plain": [
              "dict"
            ]
          },
          "metadata": {
            "tags": []
          },
          "execution_count": 20
        }
      ]
    },
    {
      "cell_type": "markdown",
      "metadata": {
        "id": "zVgwW6RGUNvz"
      },
      "source": [
        "### Data Frames\n",
        "\n",
        "Los Data Frames pueden interpretarse como estructuras compuestas en base a las simples. Python requiere que llamemos al paquete pandas para usar DFs:\n",
        "Nota: Un Data Frame es equivalente a una tabla."
      ]
    },
    {
      "cell_type": "code",
      "metadata": {
        "id": "O3Fp_sKlUPXD"
      },
      "source": [
        "import pandas as pd\n",
        "\n",
        "# estas son columnas:\n",
        "#listas de columnas\n",
        "\n",
        "nombres=[\"Manuel\", \"Karen\", \"Karolayne\", \"Omar\"]\n",
        "edad=[23,29,23,26]\n",
        "pais=[\"Ecuador\", \"Perú\", \"Brasil\", \"Argentina\"]\n",
        "educacion=[\"Bach\", \"Lic\", \"Bach\", \"PhD\"]"
      ],
      "execution_count": 22,
      "outputs": []
    },
    {
      "cell_type": "code",
      "metadata": {
        "id": "HhKRhIYIUazb"
      },
      "source": [
        "# las llevamos a diccionario:\n",
        "data={'nombres':nombres, 'edad':edad, 'pais':pais, 'educacion':educacion}"
      ],
      "execution_count": 23,
      "outputs": []
    },
    {
      "cell_type": "markdown",
      "metadata": {
        "id": "t9_1XjyTUfnD"
      },
      "source": [
        "...y de dict a DF:"
      ]
    },
    {
      "cell_type": "code",
      "metadata": {
        "id": "Kgm2mMcBUgIj",
        "outputId": "60fa09a1-4020-4f20-f1a4-f045ed12f081",
        "colab": {
          "base_uri": "https://localhost:8080/",
          "height": 167
        }
      },
      "source": [
        "estudiantes=pd.DataFrame(data)\n",
        "# check it:\n",
        "estudiantes"
      ],
      "execution_count": 24,
      "outputs": [
        {
          "output_type": "execute_result",
          "data": {
            "text/html": [
              "<div>\n",
              "<style scoped>\n",
              "    .dataframe tbody tr th:only-of-type {\n",
              "        vertical-align: middle;\n",
              "    }\n",
              "\n",
              "    .dataframe tbody tr th {\n",
              "        vertical-align: top;\n",
              "    }\n",
              "\n",
              "    .dataframe thead th {\n",
              "        text-align: right;\n",
              "    }\n",
              "</style>\n",
              "<table border=\"1\" class=\"dataframe\">\n",
              "  <thead>\n",
              "    <tr style=\"text-align: right;\">\n",
              "      <th></th>\n",
              "      <th>nombres</th>\n",
              "      <th>edad</th>\n",
              "      <th>pais</th>\n",
              "      <th>educacion</th>\n",
              "    </tr>\n",
              "  </thead>\n",
              "  <tbody>\n",
              "    <tr>\n",
              "      <th>0</th>\n",
              "      <td>Manuel</td>\n",
              "      <td>23</td>\n",
              "      <td>Ecuador</td>\n",
              "      <td>Bach</td>\n",
              "    </tr>\n",
              "    <tr>\n",
              "      <th>1</th>\n",
              "      <td>Karen</td>\n",
              "      <td>29</td>\n",
              "      <td>Perú</td>\n",
              "      <td>Lic</td>\n",
              "    </tr>\n",
              "    <tr>\n",
              "      <th>2</th>\n",
              "      <td>Karolayne</td>\n",
              "      <td>23</td>\n",
              "      <td>Brasil</td>\n",
              "      <td>Bach</td>\n",
              "    </tr>\n",
              "    <tr>\n",
              "      <th>3</th>\n",
              "      <td>Omar</td>\n",
              "      <td>26</td>\n",
              "      <td>Argentina</td>\n",
              "      <td>PhD</td>\n",
              "    </tr>\n",
              "  </tbody>\n",
              "</table>\n",
              "</div>"
            ],
            "text/plain": [
              "     nombres  edad       pais educacion\n",
              "0     Manuel    23    Ecuador      Bach\n",
              "1      Karen    29       Perú       Lic\n",
              "2  Karolayne    23     Brasil      Bach\n",
              "3       Omar    26  Argentina       PhD"
            ]
          },
          "metadata": {
            "tags": []
          },
          "execution_count": 24
        }
      ]
    },
    {
      "cell_type": "code",
      "metadata": {
        "id": "f8tvYXhhUkEF",
        "outputId": "f6cba348-2d68-4152-a964-1ffc22edb634",
        "colab": {
          "base_uri": "https://localhost:8080/"
        }
      },
      "source": [
        "type(estudiantes)"
      ],
      "execution_count": 25,
      "outputs": [
        {
          "output_type": "execute_result",
          "data": {
            "text/plain": [
              "pandas.core.frame.DataFrame"
            ]
          },
          "metadata": {
            "tags": []
          },
          "execution_count": 25
        }
      ]
    }
  ]
}