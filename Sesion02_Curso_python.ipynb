{
  "nbformat": 4,
  "nbformat_minor": 0,
  "metadata": {
    "colab": {
      "name": "Sesion02-Curso_python.ipynb",
      "provenance": [],
      "authorship_tag": "ABX9TyORZokjopBaZXG8NJHxrRir",
      "include_colab_link": true
    },
    "kernelspec": {
      "name": "python3",
      "display_name": "Python 3"
    }
  },
  "cells": [
    {
      "cell_type": "markdown",
      "metadata": {
        "id": "view-in-github",
        "colab_type": "text"
      },
      "source": [
        "<a href=\"https://colab.research.google.com/github/carloshuarhua/curso_python/blob/main/Sesion02_Curso_python.ipynb\" target=\"_parent\"><img src=\"https://colab.research.google.com/assets/colab-badge.svg\" alt=\"Open In Colab\"/></a>"
      ]
    },
    {
      "cell_type": "markdown",
      "metadata": {
        "id": "NsehkWD2zleI"
      },
      "source": [
        "# **Sesión 01 - Introducción a python**\n",
        "\n",
        "En esta sección revisaremos cuáles son las estructuras de datos y tipos básicos con los que cuenta este lenguaje. Paso previo, revisaremos algunos conceptos importantes indispensables para la comprensión del lenguaje."
      ]
    },
    {
      "cell_type": "code",
      "metadata": {
        "id": "at-sno2awCYt",
        "outputId": "534ee986-37b5-4a07-cb91-c854661c3711",
        "colab": {
          "base_uri": "https://localhost:8080/"
        }
      },
      "source": [
        "#variable\n",
        "x = 8\n",
        "print (x)\n",
        "x = 9\n",
        "print (x)"
      ],
      "execution_count": 1,
      "outputs": [
        {
          "output_type": "stream",
          "text": [
            "8\n",
            "9\n"
          ],
          "name": "stdout"
        }
      ]
    },
    {
      "cell_type": "code",
      "metadata": {
        "id": "nkn8-QdIz6BY",
        "outputId": "3183ebbe-0b86-4990-ae47-05cb5560147c",
        "colab": {
          "base_uri": "https://localhost:8080/"
        }
      },
      "source": [
        "nombres = \"Juan\"\n",
        "print(type(nombres))"
      ],
      "execution_count": 6,
      "outputs": [
        {
          "output_type": "stream",
          "text": [
            "<class 'str'>\n"
          ],
          "name": "stdout"
        }
      ]
    },
    {
      "cell_type": "markdown",
      "metadata": {
        "id": "pEXhYcGrz1wR"
      },
      "source": [
        "##  **CONCEPTOS BÁSICOS**\n",
        "\n",
        "\n",
        "**Objeto**\n",
        "\n",
        "Componente que se aloja en la memoria y que tiene asociados una serie de vectores y operaciones que pueden ser realizadas con él. Un objeto en Python puede ser una cadena de texto, un número real, un diccionario o un objeto propiamente dicho, según el paradigma OOP, creado a partir de una clase determinada. En otros lenguajes de programación se emplea el término estructura de datos para referirse al objeto. Podemos considerar ambos términos como equivalentes.\n",
        "\n",
        "\n",
        "**Tipado dinámico**\n",
        "\n",
        "Python al declarar una variable no se puede indicar su tipo. En la ejecución, el tipo será asignado a la variable, empleando una técnica conocida como tipado dinámico.\n",
        "\n",
        "**¿Cómo diferencia el intérprete entre diferentes tipos y estructuras de datos?**\n",
        "\n",
        "La respuesta se encuentra en el funcionamiento interno que realiza el intérprete de la memoria. Cuando se asigna a una variable un valor, el intérprete, en tiempo de ejecución, realiza un proceso que consiste en varios pasos:\n",
        "\n",
        "\n",
        "\n",
        "1.   Se crea un objeto en la memoria con el valor asignado.\n",
        "2.   Se comprueba de que exista la variable, si no es así se crea una referencia que enlaza la nueva variable con el objeto.\n",
        "3.   Si por el contrario ya existe la variable, entonces, se cambia la referencia hacia el objeto creado.\n",
        "\n",
        "**Tanto las variables como los objetos se almacenan en diferentes zonas de la memoria.**\n",
        "\n",
        "Gracias al tipado dinámico podemos, en el mismo bloque de código, asignar diferentes tipos de datos a la misma variable, siendo el intérprete en tiempo de ejecución el que se encargará de crear los objetos y referencias que sean necesarios.\n",
        "\n",
        "Para ejemplificar el proceso ingresaremos el siguiente código:"
      ]
    },
    {
      "cell_type": "markdown",
      "metadata": {
        "id": "mZnXjnYT0GS3"
      },
      "source": [
        "1. Crear variables"
      ]
    },
    {
      "cell_type": "code",
      "metadata": {
        "id": "1oAkiqcY0Iov"
      },
      "source": [
        "x = 8\n",
        "y = x"
      ],
      "execution_count": 8,
      "outputs": []
    },
    {
      "cell_type": "markdown",
      "metadata": {
        "id": "x9NfuG3g0Qgj"
      },
      "source": [
        "2. Consultar variable"
      ]
    },
    {
      "cell_type": "code",
      "metadata": {
        "id": "WyLeV4kS0SeI",
        "outputId": "30b8ab18-9537-49db-def4-2897232020f4",
        "colab": {
          "base_uri": "https://localhost:8080/"
        }
      },
      "source": [
        "x\n"
      ],
      "execution_count": 9,
      "outputs": [
        {
          "output_type": "execute_result",
          "data": {
            "text/plain": [
              "8"
            ]
          },
          "metadata": {
            "tags": []
          },
          "execution_count": 9
        }
      ]
    },
    {
      "cell_type": "code",
      "metadata": {
        "id": "fOjL48-P0b3f",
        "outputId": "634e2801-36c4-458f-a86b-eecba9012aa5",
        "colab": {
          "base_uri": "https://localhost:8080/"
        }
      },
      "source": [
        "y"
      ],
      "execution_count": 10,
      "outputs": [
        {
          "output_type": "execute_result",
          "data": {
            "text/plain": [
              "8"
            ]
          },
          "metadata": {
            "tags": []
          },
          "execution_count": 10
        }
      ]
    },
    {
      "cell_type": "markdown",
      "metadata": {
        "id": "sQwF43Vx0eIq"
      },
      "source": [
        "**3**. Mostrar en Pantalla"
      ]
    },
    {
      "cell_type": "code",
      "metadata": {
        "id": "YtZIKnKM0lUx",
        "outputId": "7040cad3-be1c-432b-f2e8-c4a724b32344",
        "colab": {
          "base_uri": "https://localhost:8080/"
        }
      },
      "source": [
        "print(\"La variable x es:\", x)\n",
        "print(\"La variable y es:\", y)"
      ],
      "execution_count": 11,
      "outputs": [
        {
          "output_type": "stream",
          "text": [
            "La variable x es: 8\n",
            "La variable y es: 8\n"
          ],
          "name": "stdout"
        }
      ]
    },
    {
      "cell_type": "code",
      "metadata": {
        "id": "P7KwvqvK1TM8",
        "outputId": "f3f657c8-d7af-4a88-8903-a3963fa828c1",
        "colab": {
          "base_uri": "https://localhost:8080/"
        }
      },
      "source": [
        "nombres = 'Carlos C'\n",
        "apellidos = 'Huarhua J'\n",
        "edad = 18\n",
        "\n",
        "#Estandar\n",
        "primer_nombre = 'Carlos'\n",
        "\n",
        "print(\"Tu nombre es:\", nombres, \"Tu apellido es:\", apellidos, \"Tu edad es:\", edad)"
      ],
      "execution_count": 15,
      "outputs": [
        {
          "output_type": "stream",
          "text": [
            "Tu nombre es: Carlos C Tu apellido es: Huarhua J Tu edad es: 18\n"
          ],
          "name": "stdout"
        }
      ]
    },
    {
      "cell_type": "markdown",
      "metadata": {
        "id": "tUr5en9t02K7"
      },
      "source": [
        "# **TIPOS DE DATOS**\n",
        "\n",
        "*   booleano\n",
        "*   Numéricos\n",
        "*   Cadenas(string)\n",
        "*   Listas\n",
        "*   Tuplas\n",
        "*   Diccionarios\n",
        "*   DataFrames"
      ]
    },
    {
      "cell_type": "markdown",
      "metadata": {
        "id": "knqtEKPP05wx"
      },
      "source": [
        "###booleano\n",
        "\n",
        "Las variables booleanas solo pueden tener los valores True o False."
      ]
    },
    {
      "cell_type": "code",
      "metadata": {
        "id": "PRFWWalX5G1a",
        "outputId": "435f395a-d0d3-42c8-ee72-45229ee87a10",
        "colab": {
          "base_uri": "https://localhost:8080/"
        }
      },
      "source": [
        "b1 = True\n",
        "b2 = True\n",
        "b3 = False\n",
        "b4 = bool(\"True\")\n",
        "\n",
        "type(b1)\n",
        "type(b4)"
      ],
      "execution_count": 19,
      "outputs": [
        {
          "output_type": "execute_result",
          "data": {
            "text/plain": [
              "bool"
            ]
          },
          "metadata": {
            "tags": []
          },
          "execution_count": 19
        }
      ]
    },
    {
      "cell_type": "markdown",
      "metadata": {
        "id": "UEMxTqx85oE1"
      },
      "source": [
        ""
      ]
    },
    {
      "cell_type": "markdown",
      "metadata": {
        "id": "bYDs4_RKVQZX"
      },
      "source": [
        "###Numéricos\n",
        "Estos tipos de datos se crean mediante literales numéricos y se devuelven como resultados por operadores aritméticos y funciones aritméticas integradas. "
      ]
    },
    {
      "cell_type": "code",
      "metadata": {
        "id": "-WbbywH8562J"
      },
      "source": [
        "num_entero = 8\n",
        "num_negativo = -100\n",
        "num_real = 4.5 #Equivalente a float"
      ],
      "execution_count": 22,
      "outputs": []
    },
    {
      "cell_type": "code",
      "metadata": {
        "id": "8CZzJxKu6CDw"
      },
      "source": [
        "#otra manera de expresar un número real es:\n",
        "num_real = 0.5e-7"
      ],
      "execution_count": null,
      "outputs": []
    },
    {
      "cell_type": "code",
      "metadata": {
        "id": "RoPnjwq16EAv",
        "outputId": "3e25bc25-2bad-4cab-f4eb-c2e5b9b181fb",
        "colab": {
          "base_uri": "https://localhost:8080/"
        }
      },
      "source": [
        "#números formados por una parte real y otra imaginaria\n",
        "num_complejo = 3.2 + 7j\n",
        "print(type(num_complejo))"
      ],
      "execution_count": 23,
      "outputs": [
        {
          "output_type": "stream",
          "text": [
            "<class 'complex'>\n"
          ],
          "name": "stdout"
        }
      ]
    },
    {
      "cell_type": "code",
      "metadata": {
        "id": "hT5z_xw16zWz",
        "outputId": "f526ee4d-9885-46ce-d7cf-d02240e76276",
        "colab": {
          "base_uri": "https://localhost:8080/"
        }
      },
      "source": [
        "numero = 1/2\n",
        "print(type(numero))"
      ],
      "execution_count": 24,
      "outputs": [
        {
          "output_type": "stream",
          "text": [
            "<class 'float'>\n"
          ],
          "name": "stdout"
        }
      ]
    },
    {
      "cell_type": "markdown",
      "metadata": {
        "id": "2k8UIoBe6hUY"
      },
      "source": [
        "####Sistemas de representación\n",
        "\n",
        "**Python** puede representar los números enteros en los sistemas decimal, octal, binario y hexadecimal. \n",
        "\n",
        "Para la representación decimal no es necesario indicar nada más que el número en cuestión. Sin embargo, para el resto de sistemas es necesario que el número sea precedido por uno o dos caracteres concretos."
      ]
    },
    {
      "cell_type": "code",
      "metadata": {
        "id": "DZXq6Yza6lZt",
        "outputId": "d7f88800-8df7-4871-8ef3-609cc5d8609e",
        "colab": {
          "base_uri": "https://localhost:8080/"
        }
      },
      "source": [
        "#el número 7 en binario se representa de la siguiente forma:\n",
        "num_binario = 0b111\n",
        "num_binario"
      ],
      "execution_count": 26,
      "outputs": [
        {
          "output_type": "execute_result",
          "data": {
            "text/plain": [
              "7"
            ]
          },
          "metadata": {
            "tags": []
          },
          "execution_count": 26
        }
      ]
    },
    {
      "cell_type": "code",
      "metadata": {
        "id": "SnMzE7Mo7GqZ",
        "outputId": "d5ae313e-ba46-46bc-adea-2c6e5d4aaed4",
        "colab": {
          "base_uri": "https://localhost:8080/"
        }
      },
      "source": [
        "#el número 8 en octak se representa de la siguiente forma:\n",
        "num_octal = 0o10\n",
        "num_octal"
      ],
      "execution_count": 28,
      "outputs": [
        {
          "output_type": "execute_result",
          "data": {
            "text/plain": [
              "8"
            ]
          },
          "metadata": {
            "tags": []
          },
          "execution_count": 28
        }
      ]
    },
    {
      "cell_type": "code",
      "metadata": {
        "id": "5SJTSgg37LIa",
        "outputId": "904ca1b1-7550-47c5-8fbd-8922834d5914",
        "colab": {
          "base_uri": "https://localhost:8080/"
        }
      },
      "source": [
        "#el número 255 en el sistema hexadecimal se representa de la siguiente forma:\n",
        "num_hex = 0xff\n",
        "num_hex"
      ],
      "execution_count": 29,
      "outputs": [
        {
          "output_type": "execute_result",
          "data": {
            "text/plain": [
              "255"
            ]
          },
          "metadata": {
            "tags": []
          },
          "execution_count": 29
        }
      ]
    },
    {
      "cell_type": "markdown",
      "metadata": {
        "id": "AuhxoaG97uIx"
      },
      "source": [
        "###Cadenas de texto\n",
        "\n",
        "Las cadenas de texto (strings) son otro de los tipos de datos más utilizados en programación. Una Cadena de texto es un conjunto inmutable y ordenado de caracteres. Para su representación y definición se pueden utilizar tanto comillas dobles (\"), como simples (')."
      ]
    },
    {
      "cell_type": "code",
      "metadata": {
        "id": "S3VZlIE77vvQ"
      },
      "source": [
        "cadena = \"esto es una cadena de texto\""
      ],
      "execution_count": 30,
      "outputs": []
    },
    {
      "cell_type": "code",
      "metadata": {
        "id": "FyDQTrrw73Zo"
      },
      "source": [
        "cadena2 = \"\"\"Esta cadena de texto\n",
        "tiene más de una línea. En concreto, cuenta\n",
        "con tres líneas diferentes\"\"\""
      ],
      "execution_count": 31,
      "outputs": []
    },
    {
      "cell_type": "code",
      "metadata": {
        "id": "JYSjBM72738Q",
        "outputId": "214fb01c-1db3-4665-e1a0-8d74cd1ae122",
        "colab": {
          "base_uri": "https://localhost:8080/"
        }
      },
      "source": [
        "print(type(cadena))\n",
        "print(cadena)\n",
        "print(type(cadena2))\n",
        "print(cadena2)"
      ],
      "execution_count": 34,
      "outputs": [
        {
          "output_type": "stream",
          "text": [
            "<class 'str'>\n",
            "esto es una cadena de texto\n",
            "<class 'str'>\n",
            "Esta cadena de texto\n",
            "tiene más de una línea. En concreto, cuenta\n",
            "con tres líneas diferentes\n"
          ],
          "name": "stdout"
        }
      ]
    },
    {
      "cell_type": "markdown",
      "metadata": {
        "id": "H9ZIG2nO9Kbp"
      },
      "source": [
        "####Tipos\n",
        "\n",
        "Por defecto todas las cadenas de texto son Unicode. Así, cualquier string declarado en Python será automáticamente de tipo Unicode. Los tipos son:\n",
        "\n",
        "1. Unicode\n",
        "2. Byte\n",
        "3. Bytearray."
      ]
    },
    {
      "cell_type": "markdown",
      "metadata": {
        "id": "RTp_vIuN9OER"
      },
      "source": [
        "#####Byte\n",
        "El tipo byte solo admite caracteres en codificación ASCII y, al igual que los de tipo Unicode, son inmutables.\n",
        "\n",
        "Para declarar un string de tipo byte, basta con anteponer la letra b antes de las comillas:"
      ]
    },
    {
      "cell_type": "code",
      "metadata": {
        "id": "krmA312d9O9b",
        "outputId": "7ad14c0f-1bfa-413a-845f-cff2d4f619d9",
        "colab": {
          "base_uri": "https://localhost:8080/"
        }
      },
      "source": [
        "cad = b\"cadena de tipo byte\"\n",
        "print(type(cad))\n",
        "print(cad)"
      ],
      "execution_count": 35,
      "outputs": [
        {
          "output_type": "stream",
          "text": [
            "<class 'bytes'>\n",
            "b'cadena de tipo byte'\n"
          ],
          "name": "stdout"
        }
      ]
    },
    {
      "cell_type": "markdown",
      "metadata": {
        "id": "Vv7C-rc29jxS"
      },
      "source": [
        "#####Bytearray\n",
        "\n",
        "El tipo **bytearray** es una versión mutable del tipo byte.\n",
        "La declaración de un tipo bytearray debe hacerse utilizando la función integrada que nos ofrece el intérprete. Además, es imprescindible indicar el tipo de codificación que deseamos emplear. El siguiente ejemplo utiliza la codificación de los caracteres latin1 para crear un string de este tipo:"
      ]
    },
    {
      "cell_type": "code",
      "metadata": {
        "id": "aaT4QMM09kuL",
        "outputId": "791f5bb5-34af-47d3-8bfd-182ba40d1d7a",
        "colab": {
          "base_uri": "https://localhost:8080/"
        }
      },
      "source": [
        "#En latin1, no existe la ñ, España\n",
        "lat = bytearray(\"España\", \"latin1\")\n",
        "print(lat)"
      ],
      "execution_count": 36,
      "outputs": [
        {
          "output_type": "stream",
          "text": [
            "bytearray(b'Espa\\xf1a')\n"
          ],
          "name": "stdout"
        }
      ]
    },
    {
      "cell_type": "code",
      "metadata": {
        "id": "0EAM0U6k9rtL",
        "outputId": "ec851b8a-0a64-4003-ccb0-7548d0621efb",
        "colab": {
          "base_uri": "https://localhost:8080/"
        }
      },
      "source": [
        "str = \"España\"\n",
        "array1 = bytearray(str, 'utf-8') \n",
        "print(array1)"
      ],
      "execution_count": 37,
      "outputs": [
        {
          "output_type": "stream",
          "text": [
            "bytearray(b'Espa\\xc3\\xb1a')\n"
          ],
          "name": "stdout"
        }
      ]
    },
    {
      "cell_type": "code",
      "metadata": {
        "id": "5QSN4rq-9ufZ",
        "outputId": "633d6fa2-3e74-40b3-e3c8-04d9d195070e",
        "colab": {
          "base_uri": "https://localhost:8080/"
        }
      },
      "source": [
        "bytearray(\"España\", \"utf16\")"
      ],
      "execution_count": 38,
      "outputs": [
        {
          "output_type": "execute_result",
          "data": {
            "text/plain": [
              "bytearray(b'\\xff\\xfeE\\x00s\\x00p\\x00a\\x00\\xf1\\x00a\\x00')"
            ]
          },
          "metadata": {
            "tags": []
          },
          "execution_count": 38
        }
      ]
    },
    {
      "cell_type": "markdown",
      "metadata": {
        "id": "w7WuQoCl9xWy"
      },
      "source": [
        "encode(): transforma un tipo str en tipo byte"
      ]
    },
    {
      "cell_type": "code",
      "metadata": {
        "id": "oLwNajoB9yqp",
        "outputId": "2b6b4169-114c-4559-e0bf-70951ec52f19",
        "colab": {
          "base_uri": "https://localhost:8080/"
        }
      },
      "source": [
        "cad = \"es de tipo str\"\n",
        "cad.encode()"
      ],
      "execution_count": 39,
      "outputs": [
        {
          "output_type": "execute_result",
          "data": {
            "text/plain": [
              "b'es de tipo str'"
            ]
          },
          "metadata": {
            "tags": []
          },
          "execution_count": 39
        }
      ]
    },
    {
      "cell_type": "markdown",
      "metadata": {
        "id": "HsJ_yXfi-OEl"
      },
      "source": [
        "decode(): transforma un tipo byte en tipo str"
      ]
    },
    {
      "cell_type": "code",
      "metadata": {
        "id": "6mmLaDb9-Oos",
        "outputId": "1b08c596-6c32-4aad-b30c-8e16690b6a7c",
        "colab": {
          "base_uri": "https://localhost:8080/",
          "height": 35
        }
      },
      "source": [
        "cad = b\"es de tipo byte\"\n",
        "cad.decode()"
      ],
      "execution_count": 40,
      "outputs": [
        {
          "output_type": "execute_result",
          "data": {
            "application/vnd.google.colaboratory.intrinsic+json": {
              "type": "string"
            },
            "text/plain": [
              "'es de tipo byte'"
            ]
          },
          "metadata": {
            "tags": []
          },
          "execution_count": 40
        }
      ]
    },
    {
      "cell_type": "markdown",
      "metadata": {
        "id": "aHbA1shG-anI"
      },
      "source": [
        "###Listas\n",
        "\n",
        "Las listas contienen valores de cualquier tipo simple (numérico o no numérico), y podrían ser estructuras compuestas (lista de listas). Si usamos como referencia a una hoja de calculo con datos sobre individuos, una lista podria ser una fila que tiene los datos de los individuos."
      ]
    },
    {
      "cell_type": "code",
      "metadata": {
        "id": "CGHaUHZp-b3G"
      },
      "source": [
        "#Una lista en python es equivalente a una fila en excel\n",
        "Estudiante=[] #Inicializa una lista / la declara vacia\n",
        "Estudiante=[\"Manuel Ponte\",23,\"False\", \"campo3\", \"campo4\"]"
      ],
      "execution_count": 51,
      "outputs": []
    },
    {
      "cell_type": "markdown",
      "metadata": {
        "id": "ByfYFs6p_D0K"
      },
      "source": [
        "El object ‘Estudiante’ almacena temporalmente la lista en la computadora. Los nombre pueden contener letras del alfabeto y números (y algunos caracteres de puntuación), pero no debe comenzar con un número.\n",
        "\n",
        "En el código anterior, sólo se ha pedido crear la lista. Python lo ejecuta y nada más, no tienes que esperar ningún mensaje ni resultado. Si quieres ver lo que has creado, escribelo de manera explicita, así:"
      ]
    },
    {
      "cell_type": "code",
      "metadata": {
        "id": "dTv6cHn-_MKV",
        "outputId": "7c06934c-10ba-455a-f49c-927fae88b267",
        "colab": {
          "base_uri": "https://localhost:8080/"
        }
      },
      "source": [
        "Estudiante"
      ],
      "execution_count": 45,
      "outputs": [
        {
          "output_type": "execute_result",
          "data": {
            "text/plain": [
              "['Manuel Ponte', 23, 'False']"
            ]
          },
          "metadata": {
            "tags": []
          },
          "execution_count": 45
        }
      ]
    },
    {
      "cell_type": "code",
      "metadata": {
        "id": "jurCdmU0_F1d",
        "outputId": "5d547f2d-292d-4b1c-df56-7eab4e24cd2a",
        "colab": {
          "base_uri": "https://localhost:8080/"
        }
      },
      "source": [
        "print(Estudiante)\n",
        "print(type(Estudiante))"
      ],
      "execution_count": 44,
      "outputs": [
        {
          "output_type": "stream",
          "text": [
            "['Manuel Ponte', 23, 'False']\n",
            "<class 'list'>\n"
          ],
          "name": "stdout"
        }
      ]
    },
    {
      "cell_type": "markdown",
      "metadata": {
        "id": "NJkHBYbZ_VBG"
      },
      "source": [
        "Nota que hay varios tipos de datos en la lista:\n",
        "\n",
        "Nombre y apellido es texto o caracteres.\n",
        "* edad es un numero.\n",
        "* Mujer es un valor lógico.\n",
        "* Para acceder a cada uno de los elemento tu lista:"
      ]
    },
    {
      "cell_type": "code",
      "metadata": {
        "id": "qmslnOa1_Zp-",
        "outputId": "a6aab19d-85f9-4e44-ddbd-08221cc443f8",
        "colab": {
          "base_uri": "https://localhost:8080/",
          "height": 35
        }
      },
      "source": [
        "Estudiante[0] # primer elemento comienza con indice '0'"
      ],
      "execution_count": 46,
      "outputs": [
        {
          "output_type": "execute_result",
          "data": {
            "application/vnd.google.colaboratory.intrinsic+json": {
              "type": "string"
            },
            "text/plain": [
              "'Manuel Ponte'"
            ]
          },
          "metadata": {
            "tags": []
          },
          "execution_count": 46
        }
      ]
    },
    {
      "cell_type": "code",
      "metadata": {
        "id": "84iRLVqx_ead",
        "outputId": "23f03d6a-881c-495b-abed-efbfbae07788",
        "colab": {
          "base_uri": "https://localhost:8080/"
        }
      },
      "source": [
        "Estudiante[:2] # todo antes de índice 2 "
      ],
      "execution_count": 47,
      "outputs": [
        {
          "output_type": "execute_result",
          "data": {
            "text/plain": [
              "['Manuel Ponte', 23]"
            ]
          },
          "metadata": {
            "tags": []
          },
          "execution_count": 47
        }
      ]
    },
    {
      "cell_type": "code",
      "metadata": {
        "id": "3O0jH1Pm_eUR",
        "outputId": "111d5329-8524-449e-97a8-93307a296939",
        "colab": {
          "base_uri": "https://localhost:8080/",
          "height": 35
        }
      },
      "source": [
        "Estudiante[-1] # ultimo elementos"
      ],
      "execution_count": 48,
      "outputs": [
        {
          "output_type": "execute_result",
          "data": {
            "application/vnd.google.colaboratory.intrinsic+json": {
              "type": "string"
            },
            "text/plain": [
              "'False'"
            ]
          },
          "metadata": {
            "tags": []
          },
          "execution_count": 48
        }
      ]
    },
    {
      "cell_type": "code",
      "metadata": {
        "id": "m0w21XkwCl1X",
        "outputId": "490d35fa-047d-4795-e097-64158542133e",
        "colab": {
          "base_uri": "https://localhost:8080/"
        }
      },
      "source": [
        "Estudiante[1:4]"
      ],
      "execution_count": 52,
      "outputs": [
        {
          "output_type": "execute_result",
          "data": {
            "text/plain": [
              "[23, 'False', 'campo3']"
            ]
          },
          "metadata": {
            "tags": []
          },
          "execution_count": 52
        }
      ]
    }
  ]
}