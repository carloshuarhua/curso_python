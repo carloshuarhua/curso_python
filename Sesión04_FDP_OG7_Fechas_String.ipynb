{
 "cells": [
  {
   "cell_type": "markdown",
   "metadata": {
    "colab_type": "text",
    "id": "OlP0mwzPTj51"
   },
   "source": [
    " # Paquete Datetime"
   ]
  },
  {
   "cell_type": "markdown",
   "metadata": {
    "colab_type": "text",
    "id": "yGOhOL6jTj52"
   },
   "source": [
    "### Importando el paquete datetime."
   ]
  },
  {
   "cell_type": "code",
   "execution_count": 1,
   "metadata": {
    "colab": {},
    "colab_type": "code",
    "id": "cMzO2WFxTj53"
   },
   "outputs": [],
   "source": [
    "import datetime as dt"
   ]
  },
  {
   "cell_type": "markdown",
   "metadata": {
    "colab_type": "text",
    "id": "kfealoxHTj6A"
   },
   "source": [
    "### Creando una variable de tiempo\n",
    "\n",
    "* Se necesitan los argumentos de hora, minuto, segundo y microsegundos\n",
    "* Si alguno no es brindado se completa con 0 por defecto."
   ]
  },
  {
   "cell_type": "code",
   "execution_count": 2,
   "metadata": {
    "colab": {},
    "colab_type": "code",
    "id": "vL0DIciSTj6A"
   },
   "outputs": [
    {
     "name": "stdout",
     "output_type": "stream",
     "text": [
      "01:00:00 1 Hora\n",
      "02:30:00 2 Horas y 30 minutos\n",
      "03:45:30 3 Horas, 45 minutos y 30 segundos\n"
     ]
    }
   ],
   "source": [
    "print(dt.time(1), \"1 Hora\")\n",
    "\n",
    "print(dt.time(2, 30), \"2 Horas y 30 minutos\")\n",
    "\n",
    "print(dt.time(3, 45, 30), \"3 Horas, 45 minutos y 30 segundos\")"
   ]
  },
  {
   "cell_type": "markdown",
   "metadata": {
    "colab_type": "text",
    "id": "iL4XjeKaTj6E"
   },
   "source": [
    "### `dt.datetime.now` para obtener el datetime actual.   "
   ]
  },
  {
   "cell_type": "code",
   "execution_count": 3,
   "metadata": {
    "colab": {},
    "colab_type": "code",
    "id": "OyLZPgc4Tj6E"
   },
   "outputs": [
    {
     "name": "stdout",
     "output_type": "stream",
     "text": [
      "2020-11-15 07:13:27.237550\n"
     ]
    }
   ],
   "source": [
    "now = dt.datetime.now()\n",
    "print(now)"
   ]
  },
  {
   "cell_type": "markdown",
   "metadata": {
    "colab_type": "text",
    "id": "VYR7rc-dTj6J"
   },
   "source": [
    "Algunos atributos:"
   ]
  },
  {
   "cell_type": "code",
   "execution_count": 5,
   "metadata": {
    "colab": {},
    "colab_type": "code",
    "id": "FglSeAjWTj6K"
   },
   "outputs": [
    {
     "name": "stdout",
     "output_type": "stream",
     "text": [
      "Fecha\n",
      "\n",
      "El año actual es: 2020\n",
      "El mes actual es: 11\n",
      "El día actual es: 15\n",
      "\n",
      "Tiempo\n",
      "\n",
      "La hora actual es:    7\n",
      "El minuto actual es:  13\n",
      "El segundo actual es: 27\n"
     ]
    }
   ],
   "source": [
    "print(\"Fecha\\n\")\n",
    "print(\"El año actual es:\", now.year)\n",
    "print(\"El mes actual es:\", now.month)\n",
    "print(\"El día actual es:\", now.day)\n",
    "\n",
    "print(\"\\nTiempo\\n\")\n",
    "print(\"La hora actual es:   \", now.hour)\n",
    "print(\"El minuto actual es: \", now.minute)\n",
    "print(\"El segundo actual es:\", now.second)"
   ]
  },
  {
   "cell_type": "markdown",
   "metadata": {
    "colab_type": "text",
    "id": "pWquEnoXTj6W"
   },
   "source": [
    "Para crear un datetime en particular es necesario pasar los atributos de año, mes y día; los de tiempo son opcionales."
   ]
  },
  {
   "cell_type": "code",
   "execution_count": 6,
   "metadata": {
    "colab": {},
    "colab_type": "code",
    "id": "hCn6RFvqTj6Y"
   },
   "outputs": [
    {
     "name": "stdout",
     "output_type": "stream",
     "text": [
      "2020-12-25 00:00:00\n"
     ]
    }
   ],
   "source": [
    "navidad_date = dt.datetime(2020, 12, 25)\n",
    "print(navidad_date)"
   ]
  },
  {
   "cell_type": "code",
   "execution_count": 7,
   "metadata": {
    "colab": {},
    "colab_type": "code",
    "id": "Ph2vhaaQTj6k"
   },
   "outputs": [
    {
     "name": "stdout",
     "output_type": "stream",
     "text": [
      "39 days, 16:46:32.762450\n"
     ]
    }
   ],
   "source": [
    "diff = navidad_date - now\n",
    "print(diff)"
   ]
  },
  {
   "cell_type": "code",
   "execution_count": 8,
   "metadata": {
    "colab": {},
    "colab_type": "code",
    "id": "2RT7oB3hkcKk"
   },
   "outputs": [
    {
     "data": {
      "text/plain": [
       "datetime.timedelta"
      ]
     },
     "execution_count": 8,
     "metadata": {},
     "output_type": "execute_result"
    }
   ],
   "source": [
    "type(diff)"
   ]
  },
  {
   "cell_type": "markdown",
   "metadata": {
    "colab_type": "text",
    "id": "Az_BFR5_gjb_"
   },
   "source": [
    "Podemos crear un objeto timedelta también y añadirlo a un datetime:"
   ]
  },
  {
   "cell_type": "code",
   "execution_count": 9,
   "metadata": {
    "colab": {},
    "colab_type": "code",
    "id": "PvcogWGMgjcC"
   },
   "outputs": [
    {
     "name": "stdout",
     "output_type": "stream",
     "text": [
      "2020-11-15 07:13:27.237550\n",
      "45 days, 7:00:00\n",
      "2020-12-30 14:13:27.237550\n"
     ]
    }
   ],
   "source": [
    "inc = dt.timedelta(days=45, hours=7)\n",
    "\n",
    "print(now)\n",
    "print(inc)\n",
    "print(now + inc)"
   ]
  },
  {
   "cell_type": "markdown",
   "metadata": {
    "colab_type": "text",
    "id": "g0i1g6xDTj6p"
   },
   "source": [
    "### String to Datetime:\n",
    "\n",
    "- %Y for year\n",
    "- %d for day\n",
    "- %m for month\n",
    "- %H for hour\n",
    "- %M for minute\n",
    "- %S for second"
   ]
  },
  {
   "cell_type": "code",
   "execution_count": 10,
   "metadata": {
    "colab": {},
    "colab_type": "code",
    "id": "ZQEp010FlEtI"
   },
   "outputs": [
    {
     "name": "stdout",
     "output_type": "stream",
     "text": [
      "1994-07-18 00:00:00\n"
     ]
    }
   ],
   "source": [
    "str_date = \"18-07-1994\"\n",
    "str_date = dt.datetime.strptime(str_date,\"%d-%m-%Y\")\n",
    "print(str_date)"
   ]
  },
  {
   "cell_type": "code",
   "execution_count": 11,
   "metadata": {
    "colab": {},
    "colab_type": "code",
    "id": "YP2K3zt0fwTO"
   },
   "outputs": [
    {
     "data": {
      "text/plain": [
       "datetime.datetime"
      ]
     },
     "execution_count": 11,
     "metadata": {},
     "output_type": "execute_result"
    }
   ],
   "source": [
    "type(str_date)"
   ]
  },
  {
   "cell_type": "code",
   "execution_count": 12,
   "metadata": {
    "colab": {},
    "colab_type": "code",
    "id": "JJwIxCuYlRXa"
   },
   "outputs": [
    {
     "name": "stdout",
     "output_type": "stream",
     "text": [
      "1994-07-18 00:00:00\n"
     ]
    }
   ],
   "source": [
    "str_date = \"18/07/1994\"\n",
    "str_date = dt.datetime.strptime(str_date,\"%d/%m/%Y\")\n",
    "print(str_date)"
   ]
  },
  {
   "cell_type": "code",
   "execution_count": 13,
   "metadata": {
    "colab": {},
    "colab_type": "code",
    "id": "mkpSPQ8Rfzap"
   },
   "outputs": [
    {
     "data": {
      "text/plain": [
       "datetime.datetime"
      ]
     },
     "execution_count": 13,
     "metadata": {},
     "output_type": "execute_result"
    }
   ],
   "source": [
    "type(str_date)"
   ]
  },
  {
   "cell_type": "markdown",
   "metadata": {
    "colab_type": "text",
    "id": "UjWaIM9ITj6w"
   },
   "source": [
    "### Datetime to String:"
   ]
  },
  {
   "cell_type": "code",
   "execution_count": 14,
   "metadata": {
    "colab": {},
    "colab_type": "code",
    "id": "hGCf0nkUTj6w"
   },
   "outputs": [
    {
     "name": "stdout",
     "output_type": "stream",
     "text": [
      "1994-07-18 00:00:00\n"
     ]
    }
   ],
   "source": [
    "date_str = dt.datetime.strftime(str_date, \"%Y-%m-%d %H:%M:%S\")\n",
    "print(date_str)"
   ]
  },
  {
   "cell_type": "code",
   "execution_count": 15,
   "metadata": {
    "colab": {},
    "colab_type": "code",
    "id": "tExQWpEdf65k"
   },
   "outputs": [
    {
     "data": {
      "text/plain": [
       "str"
      ]
     },
     "execution_count": 15,
     "metadata": {},
     "output_type": "execute_result"
    }
   ],
   "source": [
    "type(date_str)"
   ]
  },
  {
   "cell_type": "markdown",
   "metadata": {
    "colab": {},
    "colab_type": "code",
    "id": "YSdPZPeCf824"
   },
   "source": [
    "# Strings"
   ]
  },
  {
   "cell_type": "code",
   "execution_count": null,
   "metadata": {},
   "outputs": [],
   "source": [
    "#Ascii to Char\n",
    "\n",
    "chr(123)"
   ]
  },
  {
   "cell_type": "code",
   "execution_count": null,
   "metadata": {},
   "outputs": [],
   "source": [
    "#Char to Ascii\n",
    "\n",
    "ord('@')"
   ]
  },
  {
   "cell_type": "code",
   "execution_count": null,
   "metadata": {},
   "outputs": [],
   "source": [
    "#Creación de un string\n",
    "\n",
    "s1 = 'fundamentos de programación en Python.'"
   ]
  },
  {
   "cell_type": "code",
   "execution_count": null,
   "metadata": {},
   "outputs": [],
   "source": [
    "#Pertenencia\n",
    "\n",
    "'de' in s1"
   ]
  },
  {
   "cell_type": "code",
   "execution_count": null,
   "metadata": {},
   "outputs": [],
   "source": [
    "'Fundamentos' not in s1"
   ]
  },
  {
   "cell_type": "code",
   "execution_count": null,
   "metadata": {},
   "outputs": [],
   "source": [
    "#Longitud de un string\n",
    "\n",
    "len(s1)"
   ]
  },
  {
   "cell_type": "code",
   "execution_count": null,
   "metadata": {},
   "outputs": [],
   "source": [
    "#Acceso (Indexing - Slicing)\n",
    "\n",
    "print(s1[0])\n",
    "print(s1[-1])\n",
    "print(s1[4:8])\n",
    "print(s1[::-1])"
   ]
  },
  {
   "cell_type": "code",
   "execution_count": 17,
   "metadata": {},
   "outputs": [
    {
     "name": "stdout",
     "output_type": "stream",
     "text": [
      "Primera línea\n",
      "Segunda línea\n"
     ]
    }
   ],
   "source": [
    "#Insertar un salto de línea\n",
    "\n",
    "print('Primera línea\\nSegunda línea')"
   ]
  },
  {
   "cell_type": "code",
   "execution_count": 16,
   "metadata": {},
   "outputs": [
    {
     "name": "stdout",
     "output_type": "stream",
     "text": [
      "Primera línea\tSegunda línea\n"
     ]
    }
   ],
   "source": [
    "#Insertar un tabulador\n",
    "print('Primera línea\\tSegunda línea')"
   ]
  },
  {
   "cell_type": "code",
   "execution_count": null,
   "metadata": {},
   "outputs": [],
   "source": [
    "#Funciones de desplazamiento\n",
    "\n",
    "print('String centrado:')\n",
    "print(s1.center(50))\n",
    "print(s1.center(50, '_'))\n",
    "\n",
    "print('\\n\\nAlineado a la izquierda:')\n",
    "print(s1.ljust(50))\n",
    "print(s1.ljust(50, '<'))\n",
    "\n",
    "print('\\n\\nAlineado a la derecha:')\n",
    "print(s1.rjust(50))\n",
    "print(s1.rjust(50, '>'))\n",
    "\n",
    "print('\\n\\nCompletar con 0')\n",
    "print('-123.45'.zfill(4))\n",
    "print('-123.45'.zfill(12))"
   ]
  },
  {
   "cell_type": "code",
   "execution_count": null,
   "metadata": {},
   "outputs": [],
   "source": [
    "#Funciones de texto\n",
    "\n",
    "s1 = 'el motivo de mi RECLAMO es la demora en la entrega del producto que compré ONLINE, pésimo servicio.'\n",
    "\n",
    "print('Minúsculas:\\n', s1.lower())\n",
    "print('\\nMayúsculas:\\n', s1.upper())\n",
    "\n",
    "print('\\nPrimera letra en mayúscula:\\n', s1.capitalize())\n",
    "print('\\nPrimera letra de cada palabra en mayúscula:\\n', s1.title())\n",
    "\n",
    "print('\\nIntercambiar entre mayúsculas y minúsculas:\\n', s1.swapcase())"
   ]
  },
  {
   "cell_type": "code",
   "execution_count": 18,
   "metadata": {},
   "outputs": [
    {
     "data": {
      "text/plain": [
       "(True, False, False, False, False)"
      ]
     },
     "execution_count": 18,
     "metadata": {},
     "output_type": "execute_result"
    }
   ],
   "source": [
    "#Otras funciones\n",
    "s1 = '2020'\n",
    "s2 = 'python'\n",
    "s3 = 'Python'\n",
    "s4 = 'PythonDMC'\n",
    "s5 = 'Python-DMC'\n",
    "\n",
    "#s1.isnumeric(),  s2.isnumeric(),  s3.isnumeric(),  s4.isnumeric(),  s5.isnumeric()\n",
    "#s1.isalpha(),    s2.isalpha(),    s3.isalpha(),    s4.isalpha(),    s5.isalpha()\n",
    "#s1.islower(),    s2.islower(),    s3.islower(),    s4.islower(),    s5.islower()\n",
    "#s1.isalnum(),    s2.isalnum(),    s3.isalnum(),    s4.isalnum(),    s5.isalnum()"
   ]
  },
  {
   "cell_type": "code",
   "execution_count": 19,
   "metadata": {},
   "outputs": [
    {
     "name": "stdout",
     "output_type": "stream",
     "text": [
      "['Python', 'es', 'un', 'lenguaje', 'de', 'tipado', 'dinamico.']\n"
     ]
    }
   ],
   "source": [
    "#Reemplazar, buscar y dividir.\n",
    "\n",
    "s = 'Python es un lenguaje de tipado dinamico.'\n",
    "\n",
    "lista_palabras = s.split()\n",
    "print(lista_palabras)"
   ]
  },
  {
   "cell_type": "code",
   "execution_count": 28,
   "metadata": {},
   "outputs": [
    {
     "data": {
      "text/plain": [
       "[('China', 1391), ('India', 1364), ('Estados Unidos', 327), ('Indonesia', 264)]"
      ]
     },
     "execution_count": 28,
     "metadata": {},
     "output_type": "execute_result"
    }
   ],
   "source": [
    "Función Zip\n",
    "paises = [\"China\", \"India\", \"Estados Unidos\", \"Indonesia\"]\n",
    "poblaciones = [1391, 1364, 327, 264]\n",
    "list(zip(paises, poblaciones))"
   ]
  },
  {
   "cell_type": "code",
   "execution_count": 20,
   "metadata": {},
   "outputs": [
    {
     "name": "stdout",
     "output_type": "stream",
     "text": [
      "['Python', 'es', 'un', 'lenguaje', 'de', 'tipado', 'dinamico']\n"
     ]
    }
   ],
   "source": [
    "s = s.replace('.', '')\n",
    "\n",
    "lista_palabras = s.split()\n",
    "print(lista_palabras)"
   ]
  },
  {
   "cell_type": "code",
   "execution_count": null,
   "metadata": {},
   "outputs": [],
   "source": [
    "ss = 'de'\n",
    "\n",
    "print('Dado el substring:', ss)\n",
    "print('Índice de inicio del substring:', s.find(ss))\n",
    "print('Cantidad de ocurrencias del substring:', s.count(ss))"
   ]
  },
  {
   "cell_type": "markdown",
   "metadata": {},
   "source": [
    "## PRACTICA 01 - Escribir un programa que reciba el siguiente texto y muestre:\n",
    "\n",
    "* Cantidad de palabras distintas\n",
    "* Frecuencia de cada palabra encontrada\n",
    "\n",
    "Buenas tardes, he notado consumos no reconocidos en mi tarjeta de crédito que no he realizado. Mis últimos consumos son del 4 de abril pero en el estado de cuenta de mi tarjeta de crédito aparecen consumos posteriores. Espero su pronta ayuda, abonando el monto de los consumos al saldo de mi tarjeta, gracias."
   ]
  },
  {
   "cell_type": "code",
   "execution_count": 21,
   "metadata": {},
   "outputs": [],
   "source": [
    "#Ingrese su respuesta aquí\n",
    "\n",
    "texto = 'Buenas tardes, he notado consumos no reconocidos en mi tarjeta de crédito que no he realizado. Mis últimos consumos son del 4 de abril pero en el estado de cuenta de mi tarjeta de crédito aparecen consumos posteriores. Espero su pronta ayuda, abonando el monto de los consumos al saldo de mi tarjeta, gracias.'\n"
   ]
  },
  {
   "cell_type": "code",
   "execution_count": 30,
   "metadata": {},
   "outputs": [],
   "source": [
    "#listaPalabras = texto.split()\n",
    "\n",
    "#frecuenciaPalab = []\n",
    "#for palabra in listaPalabras:\n",
    "    #frecuenciaPalab.append(listaPalabras.count(palabra))\n",
    "\n",
    "#print(\"Cadena\\n\" + texto +\"\\n\")\n",
    "#print(\"Lista\\n\" + str(listaPalabras) + \"\\n\")\n",
    "#print(\"Frecuencias\\n\" + str(frecuenciaPalab) + \"\\n\")\n",
    "#print(\"Pares\\n\" + str(list(zip(listaPalabras, frecuenciaPalab))))"
   ]
  },
  {
   "cell_type": "code",
   "execution_count": null,
   "metadata": {},
   "outputs": [],
   "source": []
  }
 ],
 "metadata": {
  "colab": {
   "collapsed_sections": [],
   "name": "Sesión05_FDP_OG5_Fechas.ipynb",
   "provenance": []
  },
  "kernelspec": {
   "display_name": "Python 3",
   "language": "python",
   "name": "python3"
  },
  "language_info": {
   "codemirror_mode": {
    "name": "ipython",
    "version": 3
   },
   "file_extension": ".py",
   "mimetype": "text/x-python",
   "name": "python",
   "nbconvert_exporter": "python",
   "pygments_lexer": "ipython3",
   "version": "3.8.3"
  }
 },
 "nbformat": 4,
 "nbformat_minor": 1
}
