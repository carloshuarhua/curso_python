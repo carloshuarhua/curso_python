{
  "nbformat": 4,
  "nbformat_minor": 0,
  "metadata": {
    "colab": {
      "name": "Exámen Final - Fundamentos de Python.ipynb",
      "provenance": [],
      "authorship_tag": "ABX9TyOvi4EVcU25rSX8v1SUrK2u",
      "include_colab_link": true
    },
    "kernelspec": {
      "name": "python3",
      "display_name": "Python 3"
    }
  },
  "cells": [
    {
      "cell_type": "markdown",
      "metadata": {
        "id": "view-in-github",
        "colab_type": "text"
      },
      "source": [
        "<a href=\"https://colab.research.google.com/github/juansalinasponce/course_python/blob/main/Ex%C3%A1men_Final_Fundamentos_de_Python.ipynb\" target=\"_parent\"><img src=\"https://colab.research.google.com/assets/colab-badge.svg\" alt=\"Open In Colab\"/></a>"
      ]
    },
    {
      "cell_type": "code",
      "metadata": {
        "id": "njxRZIe2dvhU"
      },
      "source": [
        "#Realizar un print con tu nombre completo"
      ],
      "execution_count": null,
      "outputs": []
    },
    {
      "cell_type": "markdown",
      "metadata": {
        "id": "8zvm6LxRaZ89"
      },
      "source": [
        "#Examen Final - Fundamentos de Python\n",
        "\n",
        "\n",
        "\n",
        "1.   Desarrollar el examen teórico https://www.questionpro.com/t/ARQPVZjyp0\n",
        "2.   Enviar los ejercicios de cada sesión.\n",
        "\n",
        "\n",
        "# **NOTA: Enviar la información hasta las 23:59 PM del 22/11/2020**\n",
        "Drive: https://drive.google.com/drive/folders/1Dny1t1c4qEy0MZ3_r9oOQjvL9TByoHVU?usp=sharing"
      ]
    },
    {
      "cell_type": "markdown",
      "metadata": {
        "id": "cs1R7XWJcN4l"
      },
      "source": [
        "### Laboratorio 01 \n",
        "\n",
        "* Busque un personaje publico de su preferencia en wikipedia\n",
        "* Haga un diccionario de la manera más simple.\n",
        "* Haga luego un diccionario usando donde se pueda otras estructuras (listas, tuplas, diccionarios)\n",
        "\n",
        "Referencia : https://github.com/juansalinasponce/course_python/blob/main/Sesion_02/Sesion02_FDP_Tipos_de_Datos.ipynb"
      ]
    },
    {
      "cell_type": "code",
      "metadata": {
        "id": "4D9n4EOUcfrj"
      },
      "source": [
        ""
      ],
      "execution_count": null,
      "outputs": []
    },
    {
      "cell_type": "markdown",
      "metadata": {
        "id": "WFRDELOecjJu"
      },
      "source": [
        "### Laboratorio 02\n",
        "\n",
        "Escribir un programa que reciba el siguiente texto y muestre:\n",
        "* Cantidad de palabras distintas\n",
        "* Frecuencia de cada palabra encontrada\n",
        "\n",
        "`Un texto narrativo es aquel texto que cuenta una historia que se desarrolla en un período de tiempo y un lugar determinado. La narración hace referencia a la manera de contar la historia, en forma de secuencia o como una serie de acciones que realizan los personajes, y que permite al lector imaginarse la situación.`\n",
        "\n",
        "Referencia: https://github.com/juansalinasponce/course_python/blob/main/Sesion_04/Sesi%C3%B3n04_FDP_OG7_Fechas_String.ipynb"
      ]
    },
    {
      "cell_type": "code",
      "metadata": {
        "id": "TInRFIOBdpn6"
      },
      "source": [
        "#Desarrolla Aquí tu código\n"
      ],
      "execution_count": null,
      "outputs": []
    },
    {
      "cell_type": "markdown",
      "metadata": {
        "id": "n44cHsbseD1G"
      },
      "source": [
        "### Laboratorio 03\n",
        "\n",
        "Considere el siguiente diccionario data y lista de index\n",
        "\n",
        "a. Crea un DataFrame a partir del diccionario y los índices.\n",
        "\n",
        "b. Selecciona las columnas animaly age.\n",
        "\n",
        "c. Indique cuantos tipos distintos de animales hay.\n",
        "\n",
        "d. Indique cuantos animales hay de cada tipo.\n",
        "\n",
        "e. Muestre un resumen estadístico de todas las variables.\n"
      ]
    },
    {
      "cell_type": "code",
      "metadata": {
        "id": "oKJXKf47ebZv"
      },
      "source": [
        "#Desarrolle su código\n",
        "data = {'animal': ['cat', 'cat', 'snake', 'dog', 'dog', 'cat', 'snake', 'cat', 'dog', 'dog'],\n",
        "        'age': [2.5, 3, 0.5, np.nan, 5, 2, 4.5, np.nan, 7, 3],\n",
        "        'visits': [1, 3, 2, 3, 2, 3, 1, 1, 2, 1],\n",
        "        'priority': ['yes', 'yes', 'no', 'yes', 'no', 'no', 'no', 'yes', 'no', 'no']}\n",
        "\n",
        "labels = ['a', 'b', 'c', 'd', 'e', 'f', 'g', 'h', 'i', 'j']"
      ],
      "execution_count": null,
      "outputs": []
    }
  ]
}