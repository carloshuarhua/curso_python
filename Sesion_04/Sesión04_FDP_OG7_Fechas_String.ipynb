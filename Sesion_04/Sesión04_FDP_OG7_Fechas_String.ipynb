{
  "nbformat": 4,
  "nbformat_minor": 0,
  "metadata": {
    "colab": {
      "name": "Sesión05_FDP_OG5_Fechas.ipynb",
      "provenance": [],
      "collapsed_sections": []
    },
    "kernelspec": {
      "display_name": "Python 3",
      "language": "python",
      "name": "python3"
    },
    "language_info": {
      "codemirror_mode": {
        "name": "ipython",
        "version": 3
      },
      "file_extension": ".py",
      "mimetype": "text/x-python",
      "name": "python",
      "nbconvert_exporter": "python",
      "pygments_lexer": "ipython3",
      "version": "3.8.3"
    }
  },
  "cells": [
    {
      "cell_type": "markdown",
      "metadata": {
        "id": "OlP0mwzPTj51"
      },
      "source": [
        " # Paquete Datetime"
      ]
    },
    {
      "cell_type": "markdown",
      "metadata": {
        "id": "yGOhOL6jTj52"
      },
      "source": [
        "### Importando el paquete datetime."
      ]
    },
    {
      "cell_type": "code",
      "metadata": {
        "id": "cMzO2WFxTj53"
      },
      "source": [
        "import datetime as dt"
      ],
      "execution_count": 1,
      "outputs": []
    },
    {
      "cell_type": "markdown",
      "metadata": {
        "id": "kfealoxHTj6A"
      },
      "source": [
        "### Creando una variable de tiempo\n",
        "\n",
        "* Se necesitan los argumentos de hora, minuto, segundo y microsegundos\n",
        "* Si alguno no es brindado se completa con 0 por defecto."
      ]
    },
    {
      "cell_type": "code",
      "metadata": {
        "colab": {
          "base_uri": "https://localhost:8080/"
        },
        "id": "vL0DIciSTj6A",
        "outputId": "04309320-f453-47ce-99b1-71fc4ad2d5ca"
      },
      "source": [
        "print(dt.time(1), \"1 Hora\")\n",
        "print(dt.time(2, 30), \"2 Horas y 30 minutos\")\n",
        "print(dt.time(3, 45, 30), \"3 Horas, 45 minutos y 30 segundos\")\n",
        "print(dt.time(1,10), \"1 Hora y 10 minutos\")\n",
        "print(dt.time(1, 0, 10), \"1 Hora y 10 segundos\")\n",
        "print(dt.time(1,second=10), \"1 Hora y 10 segundos\")"
      ],
      "execution_count": 4,
      "outputs": [
        {
          "output_type": "stream",
          "text": [
            "01:00:00 1 Hora\n",
            "02:30:00 2 Horas y 30 minutos\n",
            "03:45:30 3 Horas, 45 minutos y 30 segundos\n",
            "01:10:00 1 Hora y 10 minutos\n",
            "01:00:10 1 Hora y 10 segundos\n",
            "01:00:10 1 Hora y 10 segundos\n"
          ],
          "name": "stdout"
        }
      ]
    },
    {
      "cell_type": "markdown",
      "metadata": {
        "id": "iL4XjeKaTj6E"
      },
      "source": [
        "### `dt.datetime.now` para obtener el datetime actual.   "
      ]
    },
    {
      "cell_type": "code",
      "metadata": {
        "id": "OyLZPgc4Tj6E",
        "outputId": "8f2544d7-fefe-4649-edcf-c497eb1ead08"
      },
      "source": [
        "now = dt.datetime.now()\n",
        "print(now)\n",
        "#Obtiene Hora del servidor"
      ],
      "execution_count": null,
      "outputs": [
        {
          "output_type": "stream",
          "text": [
            "2020-11-15 07:13:27.237550\n"
          ],
          "name": "stdout"
        }
      ]
    },
    {
      "cell_type": "markdown",
      "metadata": {
        "id": "25fEKL5kQoYN"
      },
      "source": [
        "El Tiempo en Perú (PET) está 5 horas bajo el Tiempo Universal Coordinado (UTC−5)"
      ]
    },
    {
      "cell_type": "markdown",
      "metadata": {
        "id": "VYR7rc-dTj6J"
      },
      "source": [
        "Algunos atributos:"
      ]
    },
    {
      "cell_type": "code",
      "metadata": {
        "id": "FglSeAjWTj6K",
        "outputId": "26b25363-4dc3-4243-cd39-7a4e679043c5"
      },
      "source": [
        "print(\"Fecha\\n\")\n",
        "print(\"El año actual es:\", now.year)\n",
        "print(\"El mes actual es:\", now.month)\n",
        "print(\"El día actual es:\", now.day)\n",
        "\n",
        "print(\"\\nTiempo\\n\")\n",
        "print(\"La hora actual es:   \", now.hour)\n",
        "print(\"El minuto actual es: \", now.minute)\n",
        "print(\"El segundo actual es:\", now.second)"
      ],
      "execution_count": null,
      "outputs": [
        {
          "output_type": "stream",
          "text": [
            "Fecha\n",
            "\n",
            "El año actual es: 2020\n",
            "El mes actual es: 11\n",
            "El día actual es: 15\n",
            "\n",
            "Tiempo\n",
            "\n",
            "La hora actual es:    7\n",
            "El minuto actual es:  13\n",
            "El segundo actual es: 27\n"
          ],
          "name": "stdout"
        }
      ]
    },
    {
      "cell_type": "markdown",
      "metadata": {
        "id": "pWquEnoXTj6W"
      },
      "source": [
        "Para crear un datetime en particular es necesario pasar los atributos de año, mes y día; los de tiempo son opcionales."
      ]
    },
    {
      "cell_type": "code",
      "metadata": {
        "id": "hCn6RFvqTj6Y",
        "outputId": "a2d84606-8f62-4a06-dfed-11899245d8f9"
      },
      "source": [
        "navidad_date = dt.datetime(2020, 12, 25)\n",
        "print(navidad_date)"
      ],
      "execution_count": null,
      "outputs": [
        {
          "output_type": "stream",
          "text": [
            "2020-12-25 00:00:00\n"
          ],
          "name": "stdout"
        }
      ]
    },
    {
      "cell_type": "code",
      "metadata": {
        "id": "Ph2vhaaQTj6k",
        "outputId": "72202224-e186-4506-dd3c-fd807916a68a"
      },
      "source": [
        "diff = navidad_date - now\n",
        "print(diff)"
      ],
      "execution_count": null,
      "outputs": [
        {
          "output_type": "stream",
          "text": [
            "39 days, 16:46:32.762450\n"
          ],
          "name": "stdout"
        }
      ]
    },
    {
      "cell_type": "code",
      "metadata": {
        "id": "EH-qJtYfRmZ7",
        "outputId": "8456c276-c800-4b1c-e7a5-7ce3a3adb547",
        "colab": {
          "base_uri": "https://localhost:8080/"
        }
      },
      "source": [
        "#Edad (Años)\n",
        "birth_date = dt.datetime(1983,4,30)\n",
        "now = dt.datetime.now()\n",
        "diff = now.year - birth_date.year\n",
        "print(\"Tienes\", diff, \"años de edad\")"
      ],
      "execution_count": 9,
      "outputs": [
        {
          "output_type": "stream",
          "text": [
            "Tienes 37 años de edad\n"
          ],
          "name": "stdout"
        }
      ]
    },
    {
      "cell_type": "code",
      "metadata": {
        "id": "2RT7oB3hkcKk",
        "outputId": "6ec5d060-82db-4543-e74b-b30c67e9c310"
      },
      "source": [
        "type(diff)"
      ],
      "execution_count": null,
      "outputs": [
        {
          "output_type": "execute_result",
          "data": {
            "text/plain": [
              "datetime.timedelta"
            ]
          },
          "metadata": {
            "tags": []
          },
          "execution_count": 8
        }
      ]
    },
    {
      "cell_type": "markdown",
      "metadata": {
        "id": "Az_BFR5_gjb_"
      },
      "source": [
        "Podemos crear un objeto timedelta también y añadirlo a un datetime:"
      ]
    },
    {
      "cell_type": "code",
      "metadata": {
        "id": "PvcogWGMgjcC",
        "outputId": "b14a63b2-7370-4a83-9705-a7550f37ec37"
      },
      "source": [
        "inc = dt.timedelta(days=45, hours=7)\n",
        "\n",
        "print(now)\n",
        "print(inc)\n",
        "print(now + inc)"
      ],
      "execution_count": null,
      "outputs": [
        {
          "output_type": "stream",
          "text": [
            "2020-11-15 07:13:27.237550\n",
            "45 days, 7:00:00\n",
            "2020-12-30 14:13:27.237550\n"
          ],
          "name": "stdout"
        }
      ]
    },
    {
      "cell_type": "markdown",
      "metadata": {
        "id": "g0i1g6xDTj6p"
      },
      "source": [
        "### String to Datetime:\n",
        "\n",
        "- %Y for year\n",
        "- %d for day\n",
        "- %m for month\n",
        "- %H for hour\n",
        "- %M for minute\n",
        "- %S for second"
      ]
    },
    {
      "cell_type": "code",
      "metadata": {
        "id": "ZQEp010FlEtI",
        "outputId": "c1e04aa0-de11-4759-b45c-a16105a8ca11"
      },
      "source": [
        "str_date = \"18-07-1994\"\n",
        "str_date = dt.datetime.strptime(str_date,\"%d-%m-%Y\")\n",
        "print(str_date)"
      ],
      "execution_count": null,
      "outputs": [
        {
          "output_type": "stream",
          "text": [
            "1994-07-18 00:00:00\n"
          ],
          "name": "stdout"
        }
      ]
    },
    {
      "cell_type": "code",
      "metadata": {
        "id": "ZZFujB0KUa-Y",
        "outputId": "d66fdd1d-6031-42e6-aa19-00a006c2f66d",
        "colab": {
          "base_uri": "https://localhost:8080/"
        }
      },
      "source": [
        "str_date = \"07-18-1994\"\n",
        "str_date = dt.datetime.strptime(str_date,\"%m-%d-%Y\")\n",
        "print(str_date)"
      ],
      "execution_count": 11,
      "outputs": [
        {
          "output_type": "stream",
          "text": [
            "1994-07-18 00:00:00\n"
          ],
          "name": "stdout"
        }
      ]
    },
    {
      "cell_type": "code",
      "metadata": {
        "id": "YP2K3zt0fwTO",
        "outputId": "26ecfcf7-cea7-4c70-ee44-b106f67637f1"
      },
      "source": [
        "type(str_date)"
      ],
      "execution_count": null,
      "outputs": [
        {
          "output_type": "execute_result",
          "data": {
            "text/plain": [
              "datetime.datetime"
            ]
          },
          "metadata": {
            "tags": []
          },
          "execution_count": 11
        }
      ]
    },
    {
      "cell_type": "code",
      "metadata": {
        "id": "JJwIxCuYlRXa",
        "outputId": "48830a6d-801f-4cc7-ced8-e55909fd46cc"
      },
      "source": [
        "str_date = \"18/07/1994\"\n",
        "str_date = dt.datetime.strptime(str_date,\"%d/%m/%Y\")\n",
        "print(str_date)"
      ],
      "execution_count": null,
      "outputs": [
        {
          "output_type": "stream",
          "text": [
            "1994-07-18 00:00:00\n"
          ],
          "name": "stdout"
        }
      ]
    },
    {
      "cell_type": "code",
      "metadata": {
        "id": "mkpSPQ8Rfzap",
        "outputId": "3b21d78d-679f-4c90-c607-34eeeb4d02c2"
      },
      "source": [
        "type(str_date)"
      ],
      "execution_count": null,
      "outputs": [
        {
          "output_type": "execute_result",
          "data": {
            "text/plain": [
              "datetime.datetime"
            ]
          },
          "metadata": {
            "tags": []
          },
          "execution_count": 13
        }
      ]
    },
    {
      "cell_type": "markdown",
      "metadata": {
        "id": "UjWaIM9ITj6w"
      },
      "source": [
        "### Datetime to String:"
      ]
    },
    {
      "cell_type": "code",
      "metadata": {
        "id": "hGCf0nkUTj6w",
        "outputId": "2363676d-1a11-4f9c-a6cb-3537ae457fc0"
      },
      "source": [
        "date_str = dt.datetime.strftime(str_date, \"%Y-%m-%d %H:%M:%S\")\n",
        "print(date_str)"
      ],
      "execution_count": null,
      "outputs": [
        {
          "output_type": "stream",
          "text": [
            "1994-07-18 00:00:00\n"
          ],
          "name": "stdout"
        }
      ]
    },
    {
      "cell_type": "code",
      "metadata": {
        "id": "tExQWpEdf65k",
        "outputId": "689de5c2-e400-4b9c-d4a3-015cce80f326"
      },
      "source": [
        "type(date_str)"
      ],
      "execution_count": null,
      "outputs": [
        {
          "output_type": "execute_result",
          "data": {
            "text/plain": [
              "str"
            ]
          },
          "metadata": {
            "tags": []
          },
          "execution_count": 15
        }
      ]
    },
    {
      "cell_type": "code",
      "metadata": {
        "id": "YSdPZPeCf824"
      },
      "source": [
        "# Strings"
      ],
      "execution_count": null,
      "outputs": []
    },
    {
      "cell_type": "code",
      "metadata": {
        "id": "bVTkDD_VOqaY",
        "outputId": "11a7a488-b38e-43e7-8660-5c86b0641764",
        "colab": {
          "base_uri": "https://localhost:8080/"
        }
      },
      "source": [
        "#Ascii to Char\n",
        "print(chr(123)) #{ - ok\n",
        "print(chr(64)) #@ - ok\n",
        "print(chr(164)) #ñ - pero funciona contra el formato configurado en el servidor"
      ],
      "execution_count": 16,
      "outputs": [
        {
          "output_type": "stream",
          "text": [
            "{\n",
            "@\n",
            "¤\n"
          ],
          "name": "stdout"
        }
      ]
    },
    {
      "cell_type": "code",
      "metadata": {
        "id": "n32rjRwxOqaY",
        "outputId": "4d021bfc-182a-4cae-cdb5-4ff2e5f8667c",
        "colab": {
          "base_uri": "https://localhost:8080/"
        }
      },
      "source": [
        "#Char to Ascii\n",
        "\n",
        "ord('@')"
      ],
      "execution_count": 13,
      "outputs": [
        {
          "output_type": "execute_result",
          "data": {
            "text/plain": [
              "64"
            ]
          },
          "metadata": {
            "tags": []
          },
          "execution_count": 13
        }
      ]
    },
    {
      "cell_type": "code",
      "metadata": {
        "id": "7uDhHVcdOqaY"
      },
      "source": [
        "#Creación de un string\n",
        "\n",
        "s1 = 'fundamentos de programación en Python.'"
      ],
      "execution_count": 17,
      "outputs": []
    },
    {
      "cell_type": "code",
      "metadata": {
        "id": "rKr1h5H3OqaY",
        "outputId": "85726f10-859e-405a-87a1-243aeef5c967",
        "colab": {
          "base_uri": "https://localhost:8080/"
        }
      },
      "source": [
        "#Pertenencia\n",
        "\n",
        "'de' in s1"
      ],
      "execution_count": 18,
      "outputs": [
        {
          "output_type": "execute_result",
          "data": {
            "text/plain": [
              "True"
            ]
          },
          "metadata": {
            "tags": []
          },
          "execution_count": 18
        }
      ]
    },
    {
      "cell_type": "code",
      "metadata": {
        "id": "SDW2-uFQOqaY",
        "outputId": "ff9c61e1-6fdd-4236-f604-caa3021648a0",
        "colab": {
          "base_uri": "https://localhost:8080/"
        }
      },
      "source": [
        "'Fundamentos' not in s1"
      ],
      "execution_count": 19,
      "outputs": [
        {
          "output_type": "execute_result",
          "data": {
            "text/plain": [
              "True"
            ]
          },
          "metadata": {
            "tags": []
          },
          "execution_count": 19
        }
      ]
    },
    {
      "cell_type": "code",
      "metadata": {
        "id": "VEL7KcL-ZL0J",
        "outputId": "41015a2d-6222-49fb-8270-9200eab6561d",
        "colab": {
          "base_uri": "https://localhost:8080/"
        }
      },
      "source": [
        "busqueda = '*en*'\n",
        "print(s1.lower())\n",
        "print(busqueda.lower())\n",
        "resultado_busqueda = busqueda.lower() in s1.lower()\n",
        "if resultado_busqueda :\n",
        "  print(\"Si existe\")\n",
        "else:\n",
        "  print(\"No existe\")"
      ],
      "execution_count": 35,
      "outputs": [
        {
          "output_type": "stream",
          "text": [
            "fundamentos de programación en python.\n",
            "*en*\n",
            "No existe\n"
          ],
          "name": "stdout"
        }
      ]
    },
    {
      "cell_type": "code",
      "metadata": {
        "id": "09TXi-m8cKMr",
        "outputId": "eea92977-829e-48ae-fd62-dc50c4380958",
        "colab": {
          "base_uri": "https://localhost:8080/"
        }
      },
      "source": [
        "import re\n",
        "\n",
        "pattern = 'th'\n",
        "text = 'Does this text match the pattern?'\n",
        "\n",
        "match = re.search(pattern, text)\n",
        "\n",
        "s = match.start()\n",
        "e = match.end()\n",
        "\n",
        "print('Found \"{}\"\\nin \"{}\"\\nfrom {} to {} (\"{}\")'.format(\n",
        "    match.re.pattern, match.string, s, e, text[s:e]))"
      ],
      "execution_count": 43,
      "outputs": [
        {
          "output_type": "stream",
          "text": [
            "Found \"th\"\n",
            "in \"Does this text match the pattern?\"\n",
            "from 5 to 7 (\"th\")\n"
          ],
          "name": "stdout"
        }
      ]
    },
    {
      "cell_type": "code",
      "metadata": {
        "id": "wvQo3l6AOqaY",
        "outputId": "b5eade0f-1146-407d-c255-5168195d0788",
        "colab": {
          "base_uri": "https://localhost:8080/"
        }
      },
      "source": [
        "#Longitud de un string\n",
        "\n",
        "len(s1)"
      ],
      "execution_count": 44,
      "outputs": [
        {
          "output_type": "execute_result",
          "data": {
            "text/plain": [
              "38"
            ]
          },
          "metadata": {
            "tags": []
          },
          "execution_count": 44
        }
      ]
    },
    {
      "cell_type": "code",
      "metadata": {
        "id": "o03Ri79WOqaY",
        "outputId": "a6adc26b-5b2b-478f-8aa3-cb733064bb2f",
        "colab": {
          "base_uri": "https://localhost:8080/"
        }
      },
      "source": [
        "#Acceso (Indexing - Slicing)\n",
        "print(s1)\n",
        "print(s1[0])    #Posición cero = f\n",
        "print(s1[-1])   #Posición cero - 1 = último \".\"\n",
        "print(s1[4:8])  #amen\n",
        "print(s1[::-1]) #texto invertido"
      ],
      "execution_count": 47,
      "outputs": [
        {
          "output_type": "stream",
          "text": [
            "fundamentos de programación en Python.\n",
            "f\n",
            ".\n",
            "amen\n",
            ".nohtyP ne nóicamargorp ed sotnemadnuf\n"
          ],
          "name": "stdout"
        }
      ]
    },
    {
      "cell_type": "code",
      "metadata": {
        "id": "38PbNwlXeBIN",
        "outputId": "68b58e17-3839-4f77-a94d-490a16cfdd87",
        "colab": {
          "base_uri": "https://localhost:8080/"
        }
      },
      "source": [
        "str_date = \"09-12-1994\"\n",
        "#dia = str_date[0:2]\n",
        "#mes = str_date[3:5]\n",
        "año = str_date[-4:10]\n",
        "print(año)"
      ],
      "execution_count": 50,
      "outputs": [
        {
          "output_type": "stream",
          "text": [
            "1994\n"
          ],
          "name": "stdout"
        }
      ]
    },
    {
      "cell_type": "code",
      "metadata": {
        "id": "2AX5AQDQOqaY",
        "outputId": "edfa3860-0526-4754-b6ce-c1ef6bd8b914"
      },
      "source": [
        "#Insertar un salto de línea\n",
        "\n",
        "print('Primera línea\\nSegunda línea')"
      ],
      "execution_count": null,
      "outputs": [
        {
          "output_type": "stream",
          "text": [
            "Primera línea\n",
            "Segunda línea\n"
          ],
          "name": "stdout"
        }
      ]
    },
    {
      "cell_type": "code",
      "metadata": {
        "id": "JS8Y1CS4OqaY",
        "outputId": "60462c25-0a23-4021-f1f4-6d72b4bbd27f"
      },
      "source": [
        "#Insertar un tabulador\n",
        "print('Primera línea\\tSegunda línea')"
      ],
      "execution_count": null,
      "outputs": [
        {
          "output_type": "stream",
          "text": [
            "Primera línea\tSegunda línea\n"
          ],
          "name": "stdout"
        }
      ]
    },
    {
      "cell_type": "code",
      "metadata": {
        "id": "ZjGbdnloOqaY",
        "outputId": "0c5b02bb-bb0c-4b3d-bdc6-d019b14b0e9b",
        "colab": {
          "base_uri": "https://localhost:8080/"
        }
      },
      "source": [
        "#Funciones de desplazamiento\n",
        "\n",
        "print('String centrado:')\n",
        "print(s1.center(50))\n",
        "print(s1.center(50, '_'))\n",
        "\n",
        "print('\\n\\nAlineado a la izquierda:')\n",
        "print(s1.ljust(50))\n",
        "print(s1.ljust(50, '<'))\n",
        "\n",
        "print('\\n\\nAlineado a la derecha:')\n",
        "print(s1.rjust(50))\n",
        "print(s1.rjust(50, '>'))\n",
        "\n",
        "print('\\n\\nCompletar con 0')\n",
        "print('-123.45'.zfill(4))\n",
        "print('-123.45'.zfill(12))"
      ],
      "execution_count": 51,
      "outputs": [
        {
          "output_type": "stream",
          "text": [
            "String centrado:\n",
            "      fundamentos de programación en Python.      \n",
            "______fundamentos de programación en Python.______\n",
            "\n",
            "\n",
            "Alineado a la izquierda:\n",
            "fundamentos de programación en Python.            \n",
            "fundamentos de programación en Python.<<<<<<<<<<<<\n",
            "\n",
            "\n",
            "Alineado a la derecha:\n",
            "            fundamentos de programación en Python.\n",
            ">>>>>>>>>>>>fundamentos de programación en Python.\n",
            "\n",
            "\n",
            "Completar con 0\n",
            "-123.45\n",
            "-00000123.45\n"
          ],
          "name": "stdout"
        }
      ]
    },
    {
      "cell_type": "code",
      "metadata": {
        "id": "gmoUIFowOqaZ"
      },
      "source": [
        "#Funciones de texto\n",
        "\n",
        "s1 = 'el motivo de mi RECLAMO es la demora en la entrega del producto que compré ONLINE, pésimo servicio.'\n",
        "\n",
        "print('Minúsculas:\\n', s1.lower())\n",
        "print('\\nMayúsculas:\\n', s1.upper())\n",
        "\n",
        "print('\\nPrimera letra en mayúscula:\\n', s1.capitalize())\n",
        "print('\\nPrimera letra de cada palabra en mayúscula:\\n', s1.title())\n",
        "\n",
        "print('\\nIntercambiar entre mayúsculas y minúsculas:\\n', s1.swapcase())"
      ],
      "execution_count": null,
      "outputs": []
    },
    {
      "cell_type": "code",
      "metadata": {
        "id": "QZ2V1g1GOqaZ",
        "outputId": "f06ff0df-2849-4219-efe9-ff3e23a065e9"
      },
      "source": [
        "#Otras funciones\n",
        "s1 = '2020'\n",
        "s2 = 'python'\n",
        "s3 = 'Python'\n",
        "s4 = 'PythonDMC'\n",
        "s5 = 'Python-DMC'\n",
        "\n",
        "#s1.isnumeric(),  s2.isnumeric(),  s3.isnumeric(),  s4.isnumeric(),  s5.isnumeric()\n",
        "#s1.isalpha(),    s2.isalpha(),    s3.isalpha(),    s4.isalpha(),    s5.isalpha()\n",
        "#s1.islower(),    s2.islower(),    s3.islower(),    s4.islower(),    s5.islower()\n",
        "#s1.isalnum(),    s2.isalnum(),    s3.isalnum(),    s4.isalnum(),    s5.isalnum()"
      ],
      "execution_count": null,
      "outputs": [
        {
          "output_type": "execute_result",
          "data": {
            "text/plain": [
              "(True, False, False, False, False)"
            ]
          },
          "metadata": {
            "tags": []
          },
          "execution_count": 18
        }
      ]
    },
    {
      "cell_type": "code",
      "metadata": {
        "id": "w4SiuWJoOqaZ",
        "outputId": "09d2db24-b14c-4ee9-f69d-6da3a1db92c5",
        "colab": {
          "base_uri": "https://localhost:8080/"
        }
      },
      "source": [
        "#Reemplazar, buscar y dividir.\n",
        "#Convierte String en Lista\n",
        "\n",
        "s = 'Python es un lenguaje de tipado dinamico.'\n",
        "\n",
        "lista_palabras = s.split()\n",
        "print(lista_palabras)"
      ],
      "execution_count": 52,
      "outputs": [
        {
          "output_type": "stream",
          "text": [
            "['Python', 'es', 'un', 'lenguaje', 'de', 'tipado', 'dinamico.']\n"
          ],
          "name": "stdout"
        }
      ]
    },
    {
      "cell_type": "code",
      "metadata": {
        "id": "n_YxKIE7OqaZ",
        "outputId": "ec45f046-6794-4a42-c343-00032503bbc9",
        "colab": {
          "base_uri": "https://localhost:8080/"
        }
      },
      "source": [
        "#Función Zip\n",
        "paises = [\"China\", \"India\", \"Estados Unidos\", \"Indonesia\", \"Perú\"]\n",
        "#poblaciones = [1391, 1364, 327, 264]\n",
        "poblaciones = [1391, 1364, 327] #Solo muestra los valores que coinciden entre ambas listas\n",
        "list(zip(paises, poblaciones)) #Esto es una tupla, luego no puede ser editado"
      ],
      "execution_count": 62,
      "outputs": [
        {
          "output_type": "execute_result",
          "data": {
            "text/plain": [
              "[('China', 1391), ('India', 1364), ('Estados Unidos', 327)]"
            ]
          },
          "metadata": {
            "tags": []
          },
          "execution_count": 62
        }
      ]
    },
    {
      "cell_type": "code",
      "metadata": {
        "id": "VnGJky4MOqaZ",
        "outputId": "6b755778-1eb6-43de-d2ae-6e36965e9eac"
      },
      "source": [
        "\n",
        "s = s.replace('.', '')\n",
        "\n",
        "lista_palabras = s.split()\n",
        "print(lista_palabras)"
      ],
      "execution_count": null,
      "outputs": [
        {
          "output_type": "stream",
          "text": [
            "['Python', 'es', 'un', 'lenguaje', 'de', 'tipado', 'dinamico']\n"
          ],
          "name": "stdout"
        }
      ]
    },
    {
      "cell_type": "code",
      "metadata": {
        "id": "Rt-6qsz7OqaZ"
      },
      "source": [
        "ss = 'de'\n",
        "\n",
        "print('Dado el substring:', ss)\n",
        "print('Índice de inicio del substring:', s.find(ss))\n",
        "print('Cantidad de ocurrencias del substring:', s.count(ss))"
      ],
      "execution_count": null,
      "outputs": []
    },
    {
      "cell_type": "markdown",
      "metadata": {
        "id": "z3-MASSCOqaZ"
      },
      "source": [
        "## PRACTICA 01 - Escribir un programa que reciba el siguiente texto y muestre:\n",
        "\n",
        "* Cantidad de palabras distintas\n",
        "* Frecuencia de cada palabra encontrada\n",
        "\n",
        "Buenas tardes, he notado consumos no reconocidos en mi tarjeta de crédito que no he realizado. Mis últimos consumos son del 4 de abril pero en el estado de cuenta de mi tarjeta de crédito aparecen consumos posteriores. Espero su pronta ayuda, abonando el monto de los consumos al saldo de mi tarjeta, gracias."
      ]
    },
    {
      "cell_type": "code",
      "metadata": {
        "id": "MVZMESwMOqaZ"
      },
      "source": [
        "#Ingrese su respuesta aquí\n",
        "\n",
        "texto = 'Buenas tardes, he notado consumos no reconocidos en mi tarjeta de crédito que no he realizado. Mis últimos consumos son del 4 de abril pero en el estado de cuenta de mi tarjeta de crédito aparecen consumos posteriores. Espero su pronta ayuda, abonando el monto de los consumos al saldo de mi tarjeta, gracias.'\n"
      ],
      "execution_count": null,
      "outputs": []
    },
    {
      "cell_type": "code",
      "metadata": {
        "id": "l-FJhb1iOqaZ"
      },
      "source": [
        "#listaPalabras = texto.split()\n",
        "\n",
        "#frecuenciaPalab = []\n",
        "#for palabra in listaPalabras:\n",
        "    #frecuenciaPalab.append(listaPalabras.count(palabra))\n",
        "\n",
        "#print(\"Cadena\\n\" + texto +\"\\n\")\n",
        "#print(\"Lista\\n\" + str(listaPalabras) + \"\\n\")\n",
        "#print(\"Frecuencias\\n\" + str(frecuenciaPalab) + \"\\n\")\n",
        "#print(\"Pares\\n\" + str(list(zip(listaPalabras, frecuenciaPalab))))"
      ],
      "execution_count": null,
      "outputs": []
    },
    {
      "cell_type": "code",
      "metadata": {
        "id": "YTAs549MOqaZ"
      },
      "source": [
        ""
      ],
      "execution_count": null,
      "outputs": []
    }
  ]
}